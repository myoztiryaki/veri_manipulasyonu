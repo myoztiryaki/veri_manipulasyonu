{
 "cells": [
  {
   "cell_type": "markdown",
   "id": "407e33a9-418d-4479-9ff2-f51884488d53",
   "metadata": {},
   "source": [
    "## Veri Manipülasyonu "
   ]
  },
  {
   "cell_type": "markdown",
   "id": "010a5391-ef72-4956-8ae0-440cabb46004",
   "metadata": {},
   "source": [
    "**Numpy** \n",
    "\n",
    "Numerical Python\n",
    "\n",
    "- Bilimsel hesaplamalar için kullanılır.\n",
    "- Arrayler / çok boyutlu arrayler ve matrisler üzerinde yüksek performanslı çalışma imkanı sağlar.\n",
    "- Temelleri 1995'te (matrix-sig, Guido Van Rossum) atılmış nihai olarak 2005(Travis Oliphant) yılında hayata geçmiştir. \n",
    "- Listelere benzerdir, farkı; verimli veri saklama ve vektörel operasyonlardır. "
   ]
  },
  {
   "cell_type": "code",
   "execution_count": 1,
   "id": "8848f63a-2841-4718-ac37-46aee89ac40d",
   "metadata": {},
   "outputs": [],
   "source": [
    "import numpy as np"
   ]
  },
  {
   "cell_type": "code",
   "execution_count": 4,
   "id": "e408f160-f76a-4f0c-94fd-e91534f08321",
   "metadata": {},
   "outputs": [],
   "source": [
    "#numpy array'i çağırmak\n",
    "\n",
    "a = np.array([1,2,3,4])\n",
    "b = np.array([2,3,4,5])"
   ]
  },
  {
   "cell_type": "code",
   "execution_count": 3,
   "id": "7184b1b2-52ed-4439-8f4e-3f881bc36f97",
   "metadata": {},
   "outputs": [
    {
     "data": {
      "text/plain": [
       "array([ 2,  6, 12, 20])"
      ]
     },
     "execution_count": 3,
     "metadata": {},
     "output_type": "execute_result"
    }
   ],
   "source": [
    "a * b "
   ]
  },
  {
   "cell_type": "markdown",
   "id": "168eec37-9a13-4f12-b2b3-4087d9467091",
   "metadata": {},
   "source": [
    "#### Numpy Array'i Oluşturmak\n",
    "\n",
    "Veri tipidir. Tıpkı listeler gibi. "
   ]
  },
  {
   "cell_type": "code",
   "execution_count": 13,
   "id": "9034c618-80d6-4024-8e96-3b63c2914678",
   "metadata": {},
   "outputs": [
    {
     "data": {
      "text/plain": [
       "array([0, 0, 0, 0, 0, 0, 0, 0, 0, 0])"
      ]
     },
     "execution_count": 13,
     "metadata": {},
     "output_type": "execute_result"
    }
   ],
   "source": [
    "# 0 dolu \n",
    "\n",
    "np.zeros(10, dtype = int)"
   ]
  },
  {
   "cell_type": "code",
   "execution_count": 14,
   "id": "518b5fff-7ca8-4662-afe0-80a0a0a3d212",
   "metadata": {},
   "outputs": [
    {
     "data": {
      "text/plain": [
       "array([[1, 1, 1, 1, 1],\n",
       "       [1, 1, 1, 1, 1],\n",
       "       [1, 1, 1, 1, 1]])"
      ]
     },
     "execution_count": 14,
     "metadata": {},
     "output_type": "execute_result"
    }
   ],
   "source": [
    "# 1 den oluşan \n",
    "\n",
    "np.ones((3,5), dtype = int)"
   ]
  },
  {
   "cell_type": "code",
   "execution_count": 16,
   "id": "6621c17c-c608-45e6-be1f-84ee01dc3467",
   "metadata": {},
   "outputs": [
    {
     "data": {
      "text/plain": [
       "array([[3, 3, 3, 3, 3],\n",
       "       [3, 3, 3, 3, 3],\n",
       "       [3, 3, 3, 3, 3]])"
      ]
     },
     "execution_count": 16,
     "metadata": {},
     "output_type": "execute_result"
    }
   ],
   "source": [
    "# 3 ile dolu liste yapmak\n",
    "\n",
    "np.full((3,5), 3)"
   ]
  },
  {
   "cell_type": "code",
   "execution_count": 17,
   "id": "3815b360-7cd6-40af-95aa-adb324c5178f",
   "metadata": {},
   "outputs": [
    {
     "data": {
      "text/plain": [
       "array([ 0,  3,  6,  9, 12, 15, 18, 21, 24, 27, 30])"
      ]
     },
     "execution_count": 17,
     "metadata": {},
     "output_type": "execute_result"
    }
   ],
   "source": [
    "# 0 dan 31e kadar 3 arayla sayı oluştur\n",
    "\n",
    "np.arange(0,31,3)"
   ]
  },
  {
   "cell_type": "code",
   "execution_count": 19,
   "id": "10447b29-040e-4613-95af-456c6f14ff8d",
   "metadata": {},
   "outputs": [
    {
     "data": {
      "text/plain": [
       "array([0.        , 0.11111111, 0.22222222, 0.33333333, 0.44444444,\n",
       "       0.55555556, 0.66666667, 0.77777778, 0.88888889, 1.        ])"
      ]
     },
     "execution_count": 19,
     "metadata": {},
     "output_type": "execute_result"
    }
   ],
   "source": [
    "#iki sayı arasında n kadar değer oluşturmak \n",
    "\n",
    "np.linspace(0,1,10)"
   ]
  },
  {
   "cell_type": "code",
   "execution_count": 21,
   "id": "b746c704-2d62-4b49-a641-bdd57faa5213",
   "metadata": {},
   "outputs": [
    {
     "data": {
      "text/plain": [
       "array([[10.38996977,  5.15662122,  8.26833169,  2.64213453],\n",
       "       [ 5.25453512,  4.58566416, 11.78541416,  6.24773029],\n",
       "       [12.534119  ,  8.33083346, 16.83157859, 14.37100229]])"
      ]
     },
     "execution_count": 21,
     "metadata": {},
     "output_type": "execute_result"
    }
   ],
   "source": [
    "#dağılımı kendiminizin belirlediği sayılar oluşturmak \n",
    "# ort 10 std 4 gibi\n",
    "\n",
    "np.random.normal(10,4,(3,4)) "
   ]
  },
  {
   "cell_type": "code",
   "execution_count": null,
   "id": "0f1cd631-4980-436c-86c8-6687143dfea9",
   "metadata": {},
   "outputs": [
    {
     "data": {
      "text/plain": [
       "array([[6, 6, 4, 0],\n",
       "       [6, 6, 6, 8],\n",
       "       [5, 0, 7, 0]])"
      ]
     },
     "execution_count": 22,
     "metadata": {},
     "output_type": "execute_result"
    }
   ],
   "source": [
    "# int değerlerden rastgele oluşturmak\n",
    "\n",
    "np.random.randint(0,10,(3,4))"
   ]
  },
  {
   "cell_type": "markdown",
   "id": "1d3b6500-28b9-4457-b0ab-8416ae5f9b82",
   "metadata": {},
   "source": [
    "##### Numpy Array Özellikleri \n",
    "\n",
    "- **ndim**: Boyut Sayısı\n",
    "- **shape**: Boyut Bilgisi\n",
    "- **size**: Toplam Eleman SAyısı\n",
    "- **stype**: Array Veri Tipi "
   ]
  },
  {
   "cell_type": "code",
   "execution_count": 32,
   "id": "cb8f563b-14cb-41c9-8b32-6a016e591fc0",
   "metadata": {},
   "outputs": [],
   "source": [
    "# 10 elemanlı 10'a kadar \n",
    "\n",
    "a = np.random.randint(10, size = 10)"
   ]
  },
  {
   "cell_type": "code",
   "execution_count": 33,
   "id": "1bea5451-44cd-4944-a075-3d322b6ae875",
   "metadata": {},
   "outputs": [
    {
     "data": {
      "text/plain": [
       "1"
      ]
     },
     "execution_count": 33,
     "metadata": {},
     "output_type": "execute_result"
    }
   ],
   "source": [
    "a.ndim"
   ]
  },
  {
   "cell_type": "code",
   "execution_count": 34,
   "id": "82cd5d58-7d2e-4966-bca5-f559a782cea9",
   "metadata": {},
   "outputs": [
    {
     "data": {
      "text/plain": [
       "(10,)"
      ]
     },
     "execution_count": 34,
     "metadata": {},
     "output_type": "execute_result"
    }
   ],
   "source": [
    "a.shape"
   ]
  },
  {
   "cell_type": "code",
   "execution_count": 35,
   "id": "1611f7de-9d23-4074-b794-0224a59f1650",
   "metadata": {},
   "outputs": [
    {
     "data": {
      "text/plain": [
       "10"
      ]
     },
     "execution_count": 35,
     "metadata": {},
     "output_type": "execute_result"
    }
   ],
   "source": [
    "a.size"
   ]
  },
  {
   "cell_type": "code",
   "execution_count": 37,
   "id": "bb58b3b6-8842-4e45-9692-76c1ca4b4b21",
   "metadata": {},
   "outputs": [
    {
     "data": {
      "text/plain": [
       "dtype('int32')"
      ]
     },
     "execution_count": 37,
     "metadata": {},
     "output_type": "execute_result"
    }
   ],
   "source": [
    "a.dtype"
   ]
  },
  {
   "cell_type": "code",
   "execution_count": 38,
   "id": "04b6e345-5cf1-4c91-ade7-376a7b5497a5",
   "metadata": {},
   "outputs": [],
   "source": [
    "# iki boyutlu oluşturma\n",
    "\n",
    "b = np.random.randint(10, size = (3,5))"
   ]
  },
  {
   "cell_type": "code",
   "execution_count": 39,
   "id": "f288644a-5a4a-4202-8464-78677331f70d",
   "metadata": {},
   "outputs": [
    {
     "data": {
      "text/plain": [
       "array([[7, 0, 3, 8, 5],\n",
       "       [4, 2, 8, 7, 5],\n",
       "       [6, 1, 0, 4, 8]])"
      ]
     },
     "execution_count": 39,
     "metadata": {},
     "output_type": "execute_result"
    }
   ],
   "source": [
    "b"
   ]
  },
  {
   "cell_type": "code",
   "execution_count": 41,
   "id": "58640aba-95b3-4726-9b11-7f1f7a36259a",
   "metadata": {},
   "outputs": [
    {
     "data": {
      "text/plain": [
       "2"
      ]
     },
     "execution_count": 41,
     "metadata": {},
     "output_type": "execute_result"
    }
   ],
   "source": [
    "b.ndim"
   ]
  },
  {
   "cell_type": "code",
   "execution_count": 42,
   "id": "5a7a5229-2206-4b03-aee4-8e5086400ae6",
   "metadata": {},
   "outputs": [
    {
     "data": {
      "text/plain": [
       "15"
      ]
     },
     "execution_count": 42,
     "metadata": {},
     "output_type": "execute_result"
    }
   ],
   "source": [
    "b.size"
   ]
  },
  {
   "cell_type": "code",
   "execution_count": 44,
   "id": "cf082153-0af4-4eb5-b8b5-401ccbcf8289",
   "metadata": {},
   "outputs": [
    {
     "data": {
      "text/plain": [
       "(3, 5)"
      ]
     },
     "execution_count": 44,
     "metadata": {},
     "output_type": "execute_result"
    }
   ],
   "source": [
    "b.shape"
   ]
  },
  {
   "cell_type": "code",
   "execution_count": 45,
   "id": "95c89d32-34fb-4722-8bd1-5511750c3a5d",
   "metadata": {},
   "outputs": [
    {
     "data": {
      "text/plain": [
       "dtype('int32')"
      ]
     },
     "execution_count": 45,
     "metadata": {},
     "output_type": "execute_result"
    }
   ],
   "source": [
    "b.dtype"
   ]
  },
  {
   "cell_type": "markdown",
   "id": "a5c44d81-ea82-4aa6-b3eb-c151ff076525",
   "metadata": {},
   "source": [
    "#### Yeniden Şekillendirme ( Reshaping)"
   ]
  },
  {
   "cell_type": "code",
   "execution_count": 48,
   "id": "d5d647df-32af-45b3-87e6-4f6da2bb3a05",
   "metadata": {},
   "outputs": [
    {
     "data": {
      "text/plain": [
       "array([1, 2, 3, 4, 5, 6, 7, 8, 9])"
      ]
     },
     "execution_count": 48,
     "metadata": {},
     "output_type": "execute_result"
    }
   ],
   "source": [
    "# Var olan bir numpy arrayini yeniden şekillendirme \n",
    "\n",
    "np.arange(1,10)"
   ]
  },
  {
   "cell_type": "code",
   "execution_count": 49,
   "id": "82855c78-0cd7-4889-83a9-f7a5fc532d41",
   "metadata": {},
   "outputs": [
    {
     "data": {
      "text/plain": [
       "array([[1, 2, 3],\n",
       "       [4, 5, 6],\n",
       "       [7, 8, 9]])"
      ]
     },
     "execution_count": 49,
     "metadata": {},
     "output_type": "execute_result"
    }
   ],
   "source": [
    "np.arange(1,10).reshape((3,3))"
   ]
  },
  {
   "cell_type": "code",
   "execution_count": 52,
   "id": "29c919d0-f858-4239-a1e7-19711a96a612",
   "metadata": {},
   "outputs": [],
   "source": [
    "#tek boyutlu bir vektördür\n",
    "\n",
    "a = np.arange(1,10)"
   ]
  },
  {
   "cell_type": "code",
   "execution_count": 53,
   "id": "5dd16b56-c1c8-450a-bda4-55076e9372b7",
   "metadata": {},
   "outputs": [
    {
     "data": {
      "text/plain": [
       "1"
      ]
     },
     "execution_count": 53,
     "metadata": {},
     "output_type": "execute_result"
    }
   ],
   "source": [
    "a.ndim"
   ]
  },
  {
   "cell_type": "code",
   "execution_count": 55,
   "id": "6dd3e6ba-0f73-4a93-a181-903fae94728e",
   "metadata": {},
   "outputs": [],
   "source": [
    "# iki boyutlu ancak tek liste gibi görünüyor çift [] lere dikkat.\n",
    "\n",
    "b = a.reshape((1,9))"
   ]
  },
  {
   "cell_type": "code",
   "execution_count": 56,
   "id": "a9a11bc8-f2c7-4d90-a669-6902e21f6711",
   "metadata": {},
   "outputs": [
    {
     "data": {
      "text/plain": [
       "2"
      ]
     },
     "execution_count": 56,
     "metadata": {},
     "output_type": "execute_result"
    }
   ],
   "source": [
    "b.ndim"
   ]
  },
  {
   "cell_type": "markdown",
   "id": "629c2995-50b0-48f6-ac00-1c2f86c0e3fe",
   "metadata": {},
   "source": [
    "#### Array Birleştirme (Concantenation)"
   ]
  },
  {
   "cell_type": "code",
   "execution_count": 57,
   "id": "c382a597-8655-4c8a-a12f-98053f424734",
   "metadata": {},
   "outputs": [],
   "source": [
    "x = np.array([1,2,3])\n",
    "y = np.array([4,5,6])"
   ]
  },
  {
   "cell_type": "code",
   "execution_count": 58,
   "id": "d279cbbe-34eb-4bb9-a1ed-8df2eb977d4b",
   "metadata": {},
   "outputs": [
    {
     "data": {
      "text/plain": [
       "array([1, 2, 3, 4, 5, 6])"
      ]
     },
     "execution_count": 58,
     "metadata": {},
     "output_type": "execute_result"
    }
   ],
   "source": [
    "np.concatenate([x,y])"
   ]
  },
  {
   "cell_type": "code",
   "execution_count": 59,
   "id": "54650e33-e575-447b-ab4e-c211b80dc2db",
   "metadata": {},
   "outputs": [],
   "source": [
    "z = np.array([7,8,9])"
   ]
  },
  {
   "cell_type": "code",
   "execution_count": 60,
   "id": "3d01b12c-53ae-49ac-bd2e-a772af2c3fc0",
   "metadata": {},
   "outputs": [
    {
     "data": {
      "text/plain": [
       "array([1, 2, 3, 4, 5, 6, 1, 2, 3])"
      ]
     },
     "execution_count": 60,
     "metadata": {},
     "output_type": "execute_result"
    }
   ],
   "source": [
    "np.concatenate([x,y,x])"
   ]
  },
  {
   "cell_type": "code",
   "execution_count": 61,
   "id": "42b6b35b-6ca8-4877-881d-f3bf8d5064a3",
   "metadata": {},
   "outputs": [],
   "source": [
    "#iki boyut "
   ]
  },
  {
   "cell_type": "code",
   "execution_count": 62,
   "id": "68d42b32-63a1-433f-b73e-f5de44e27e29",
   "metadata": {},
   "outputs": [],
   "source": [
    "a = np.array([[1,2,3,],\n",
    "              [4,5,6]])"
   ]
  },
  {
   "cell_type": "code",
   "execution_count": 63,
   "id": "9fcdbe44-4041-4782-ba14-484574e36d98",
   "metadata": {},
   "outputs": [
    {
     "data": {
      "text/plain": [
       "array([[1, 2, 3],\n",
       "       [4, 5, 6],\n",
       "       [1, 2, 3],\n",
       "       [4, 5, 6]])"
      ]
     },
     "execution_count": 63,
     "metadata": {},
     "output_type": "execute_result"
    }
   ],
   "source": [
    "np.concatenate([a,a])"
   ]
  },
  {
   "cell_type": "code",
   "execution_count": 65,
   "id": "a9747760-6e33-4c02-a331-4f3ea3c78833",
   "metadata": {},
   "outputs": [
    {
     "data": {
      "text/plain": [
       "array([[1, 2, 3],\n",
       "       [4, 5, 6],\n",
       "       [1, 2, 3],\n",
       "       [4, 5, 6]])"
      ]
     },
     "execution_count": 65,
     "metadata": {},
     "output_type": "execute_result"
    }
   ],
   "source": [
    "np.concatenate([a,a], axis = 0)"
   ]
  },
  {
   "cell_type": "markdown",
   "id": "ed96c398-9c9b-4d0b-82d8-9428e782b309",
   "metadata": {},
   "source": [
    "#### Array Ayırma (Splitting)"
   ]
  },
  {
   "cell_type": "code",
   "execution_count": 66,
   "id": "30406008-6f37-4dfe-adf7-16dcf44ca59a",
   "metadata": {},
   "outputs": [],
   "source": [
    "x = np.array([1,2,3,99,99,3,2,1])"
   ]
  },
  {
   "cell_type": "code",
   "execution_count": 67,
   "id": "8b478c6a-d01f-4c84-853e-56f3e16d3fa0",
   "metadata": {},
   "outputs": [
    {
     "data": {
      "text/plain": [
       "[array([1, 2, 3]), array([99, 99]), array([3, 2, 1])]"
      ]
     },
     "execution_count": 67,
     "metadata": {},
     "output_type": "execute_result"
    }
   ],
   "source": [
    "np.split(x, [3,5])"
   ]
  },
  {
   "cell_type": "code",
   "execution_count": 68,
   "id": "7fb43fec-f4bc-4c46-82cc-6930f6fdb401",
   "metadata": {},
   "outputs": [],
   "source": [
    "a,b,c = np.split(x, [3,5])"
   ]
  },
  {
   "cell_type": "code",
   "execution_count": 69,
   "id": "0eae120d-e4b6-47c7-b2a9-0993d372cd33",
   "metadata": {},
   "outputs": [
    {
     "data": {
      "text/plain": [
       "array([1, 2, 3])"
      ]
     },
     "execution_count": 69,
     "metadata": {},
     "output_type": "execute_result"
    }
   ],
   "source": [
    "a"
   ]
  },
  {
   "cell_type": "code",
   "execution_count": 70,
   "id": "df8eaf2b-2650-4a17-b28d-8c79c62331f4",
   "metadata": {},
   "outputs": [
    {
     "data": {
      "text/plain": [
       "array([99, 99])"
      ]
     },
     "execution_count": 70,
     "metadata": {},
     "output_type": "execute_result"
    }
   ],
   "source": [
    "b"
   ]
  },
  {
   "cell_type": "code",
   "execution_count": 71,
   "id": "1eae54ba-2a19-4f10-b8cf-d4b825b726bf",
   "metadata": {},
   "outputs": [
    {
     "data": {
      "text/plain": [
       "array([3, 2, 1])"
      ]
     },
     "execution_count": 71,
     "metadata": {},
     "output_type": "execute_result"
    }
   ],
   "source": [
    "c"
   ]
  },
  {
   "cell_type": "code",
   "execution_count": 72,
   "id": "0ffd3a4b-fbc2-4653-afab-29563e863f68",
   "metadata": {},
   "outputs": [
    {
     "data": {
      "text/plain": [
       "array([[ 0,  1,  2,  3],\n",
       "       [ 4,  5,  6,  7],\n",
       "       [ 8,  9, 10, 11],\n",
       "       [12, 13, 14, 15]])"
      ]
     },
     "execution_count": 72,
     "metadata": {},
     "output_type": "execute_result"
    }
   ],
   "source": [
    "# iki boyutlu ayırma \n",
    "\n",
    "m = np.arange(16).reshape(4,4)\n",
    "m"
   ]
  },
  {
   "cell_type": "code",
   "execution_count": 73,
   "id": "c27060f8-e5cc-4055-bf2a-a56a2e36aaa6",
   "metadata": {},
   "outputs": [
    {
     "data": {
      "text/plain": [
       "[array([[0, 1, 2, 3],\n",
       "        [4, 5, 6, 7]]),\n",
       " array([[ 8,  9, 10, 11],\n",
       "        [12, 13, 14, 15]])]"
      ]
     },
     "execution_count": 73,
     "metadata": {},
     "output_type": "execute_result"
    }
   ],
   "source": [
    "np.vsplit(m, [2])"
   ]
  },
  {
   "cell_type": "code",
   "execution_count": 74,
   "id": "f50b816e-4456-43b6-b341-f3a3e6095f88",
   "metadata": {},
   "outputs": [],
   "source": [
    "ust, alt = np.vsplit(m, [2])"
   ]
  },
  {
   "cell_type": "code",
   "execution_count": 75,
   "id": "52f33f49-c607-4576-8930-836fee8c478a",
   "metadata": {},
   "outputs": [
    {
     "data": {
      "text/plain": [
       "array([[0, 1, 2, 3],\n",
       "       [4, 5, 6, 7]])"
      ]
     },
     "execution_count": 75,
     "metadata": {},
     "output_type": "execute_result"
    }
   ],
   "source": [
    "ust"
   ]
  },
  {
   "cell_type": "code",
   "execution_count": 76,
   "id": "bd138dc3-22e5-4983-8962-26ff2d5691fb",
   "metadata": {},
   "outputs": [
    {
     "data": {
      "text/plain": [
       "array([[ 8,  9, 10, 11],\n",
       "       [12, 13, 14, 15]])"
      ]
     },
     "execution_count": 76,
     "metadata": {},
     "output_type": "execute_result"
    }
   ],
   "source": [
    "alt"
   ]
  },
  {
   "cell_type": "code",
   "execution_count": 77,
   "id": "0f968241-118a-4f10-bfc9-dbdea3a0cd1f",
   "metadata": {},
   "outputs": [
    {
     "data": {
      "text/plain": [
       "array([[ 0,  1,  2,  3],\n",
       "       [ 4,  5,  6,  7],\n",
       "       [ 8,  9, 10, 11],\n",
       "       [12, 13, 14, 15]])"
      ]
     },
     "execution_count": 77,
     "metadata": {},
     "output_type": "execute_result"
    }
   ],
   "source": [
    "m"
   ]
  },
  {
   "cell_type": "code",
   "execution_count": 78,
   "id": "bc959bf3-d2fe-423d-ba87-d43160ce2757",
   "metadata": {},
   "outputs": [],
   "source": [
    "#yatay bölme "
   ]
  },
  {
   "cell_type": "code",
   "execution_count": 79,
   "id": "3defe6e9-d670-41a8-9571-0d704129141d",
   "metadata": {},
   "outputs": [
    {
     "data": {
      "text/plain": [
       "[array([[ 0,  1],\n",
       "        [ 4,  5],\n",
       "        [ 8,  9],\n",
       "        [12, 13]]),\n",
       " array([[ 2,  3],\n",
       "        [ 6,  7],\n",
       "        [10, 11],\n",
       "        [14, 15]])]"
      ]
     },
     "execution_count": 79,
     "metadata": {},
     "output_type": "execute_result"
    }
   ],
   "source": [
    "np.hsplit(m,[2])"
   ]
  },
  {
   "cell_type": "code",
   "execution_count": 80,
   "id": "d0b23fd5-2dce-4238-9942-bc6a16ffc21c",
   "metadata": {},
   "outputs": [],
   "source": [
    "sag, sol = np.hsplit(m,[2])"
   ]
  },
  {
   "cell_type": "code",
   "execution_count": 81,
   "id": "9b613f7c-6119-4098-a857-e22ca2355cc0",
   "metadata": {},
   "outputs": [
    {
     "data": {
      "text/plain": [
       "array([[ 0,  1],\n",
       "       [ 4,  5],\n",
       "       [ 8,  9],\n",
       "       [12, 13]])"
      ]
     },
     "execution_count": 81,
     "metadata": {},
     "output_type": "execute_result"
    }
   ],
   "source": [
    "sag"
   ]
  },
  {
   "cell_type": "code",
   "execution_count": 82,
   "id": "fb2d4771-542f-4dd5-a28f-84c77ce5bcd1",
   "metadata": {},
   "outputs": [
    {
     "data": {
      "text/plain": [
       "array([[ 2,  3],\n",
       "       [ 6,  7],\n",
       "       [10, 11],\n",
       "       [14, 15]])"
      ]
     },
     "execution_count": 82,
     "metadata": {},
     "output_type": "execute_result"
    }
   ],
   "source": [
    "sol"
   ]
  },
  {
   "cell_type": "markdown",
   "id": "7e47ed58-4468-4e1d-9f64-8e0654443cd1",
   "metadata": {},
   "source": [
    "#### Array Sıralama (Sorting)"
   ]
  },
  {
   "cell_type": "code",
   "execution_count": 89,
   "id": "b993180e-7d45-4848-b653-396dcb85299a",
   "metadata": {},
   "outputs": [],
   "source": [
    "v = np.array([2,1,4,3,5])"
   ]
  },
  {
   "cell_type": "code",
   "execution_count": 90,
   "id": "07da159e-211c-40d6-945b-97df8d35627f",
   "metadata": {},
   "outputs": [
    {
     "data": {
      "text/plain": [
       "array([2, 1, 4, 3, 5])"
      ]
     },
     "execution_count": 90,
     "metadata": {},
     "output_type": "execute_result"
    }
   ],
   "source": [
    "v"
   ]
  },
  {
   "cell_type": "code",
   "execution_count": 85,
   "id": "c6ef48a8-d8ac-407b-b5d2-9b4ef86c2517",
   "metadata": {},
   "outputs": [
    {
     "data": {
      "text/plain": [
       "array([1, 2, 3, 4, 5])"
      ]
     },
     "execution_count": 85,
     "metadata": {},
     "output_type": "execute_result"
    }
   ],
   "source": [
    "# orjinal yapıyı bozmuyor  \n",
    "np.sort(v) "
   ]
  },
  {
   "cell_type": "code",
   "execution_count": 91,
   "id": "6c341805-4875-44f0-b5b0-df0cb021d638",
   "metadata": {},
   "outputs": [
    {
     "data": {
      "text/plain": [
       "array([2, 1, 4, 3, 5])"
      ]
     },
     "execution_count": 91,
     "metadata": {},
     "output_type": "execute_result"
    }
   ],
   "source": [
    "v"
   ]
  },
  {
   "cell_type": "code",
   "execution_count": 92,
   "id": "86471b19-c645-474e-b453-881871133a31",
   "metadata": {},
   "outputs": [],
   "source": [
    "# yapıyı komple değiştiriyor \n",
    "v.sort()"
   ]
  },
  {
   "cell_type": "code",
   "execution_count": 93,
   "id": "c9511bee-d897-438f-aafa-45feccd29d0e",
   "metadata": {},
   "outputs": [
    {
     "data": {
      "text/plain": [
       "array([1, 2, 3, 4, 5])"
      ]
     },
     "execution_count": 93,
     "metadata": {},
     "output_type": "execute_result"
    }
   ],
   "source": [
    "v"
   ]
  },
  {
   "cell_type": "code",
   "execution_count": 94,
   "id": "5ca2b7ed-989b-4180-ab23-c0b4794d8f05",
   "metadata": {},
   "outputs": [],
   "source": [
    "# iki boyutlu array sıralama\n",
    "\n",
    "m = np.random.normal (20,5, (3,3))"
   ]
  },
  {
   "cell_type": "code",
   "execution_count": 95,
   "id": "d178d44b-d8ca-476f-a091-096c1ba3cc4d",
   "metadata": {},
   "outputs": [
    {
     "data": {
      "text/plain": [
       "array([[29.82400586, 17.63974435, 16.13631185],\n",
       "       [24.91324196, 19.82723341, 22.62772711],\n",
       "       [19.89337053, 24.27559165, 22.66892367]])"
      ]
     },
     "execution_count": 95,
     "metadata": {},
     "output_type": "execute_result"
    }
   ],
   "source": [
    "m"
   ]
  },
  {
   "cell_type": "code",
   "execution_count": 96,
   "id": "268b9ba0-daa8-42e7-bba3-7fbe4d4b8ee1",
   "metadata": {},
   "outputs": [
    {
     "data": {
      "text/plain": [
       "array([[16.13631185, 17.63974435, 29.82400586],\n",
       "       [19.82723341, 22.62772711, 24.91324196],\n",
       "       [19.89337053, 22.66892367, 24.27559165]])"
      ]
     },
     "execution_count": 96,
     "metadata": {},
     "output_type": "execute_result"
    }
   ],
   "source": [
    "# satırları sıralamak\n",
    "\n",
    "np.sort(m, axis = 1) "
   ]
  },
  {
   "cell_type": "code",
   "execution_count": 97,
   "id": "c5e7390a-aa7d-41e1-9d82-1deafc63b432",
   "metadata": {},
   "outputs": [
    {
     "data": {
      "text/plain": [
       "array([[19.89337053, 17.63974435, 16.13631185],\n",
       "       [24.91324196, 19.82723341, 22.62772711],\n",
       "       [29.82400586, 24.27559165, 22.66892367]])"
      ]
     },
     "execution_count": 97,
     "metadata": {},
     "output_type": "execute_result"
    }
   ],
   "source": [
    "# sutunları sıralamak\n",
    "\n",
    "np.sort(m, axis = 0)"
   ]
  },
  {
   "cell_type": "markdown",
   "id": "d2345309-214d-4545-9b9f-e798220ea173",
   "metadata": {},
   "source": [
    "#### Index ile Elemanlara Erişmek"
   ]
  },
  {
   "cell_type": "code",
   "execution_count": 98,
   "id": "021d79ca-17a4-474c-b982-d608c55a991e",
   "metadata": {},
   "outputs": [
    {
     "data": {
      "text/plain": [
       "array([2, 9, 9, 4, 9, 7, 7, 8, 5, 1])"
      ]
     },
     "execution_count": 98,
     "metadata": {},
     "output_type": "execute_result"
    }
   ],
   "source": [
    "a = np.random.randint(10, size = 10)\n",
    "a "
   ]
  },
  {
   "cell_type": "code",
   "execution_count": 99,
   "id": "453a17a6-36bc-44fc-a0f9-85f7558c0d2c",
   "metadata": {},
   "outputs": [
    {
     "data": {
      "text/plain": [
       "2"
      ]
     },
     "execution_count": 99,
     "metadata": {},
     "output_type": "execute_result"
    }
   ],
   "source": [
    "a[0]"
   ]
  },
  {
   "cell_type": "code",
   "execution_count": 100,
   "id": "5032c21c-e95b-4b80-8f7f-a2e4696777b0",
   "metadata": {},
   "outputs": [
    {
     "data": {
      "text/plain": [
       "1"
      ]
     },
     "execution_count": 100,
     "metadata": {},
     "output_type": "execute_result"
    }
   ],
   "source": [
    "a[-1]"
   ]
  },
  {
   "cell_type": "code",
   "execution_count": 101,
   "id": "54a8c899-88d1-49a1-bc3c-30e3385bacb8",
   "metadata": {},
   "outputs": [],
   "source": [
    "# 0.elemanı değiştirmek \n",
    "\n",
    "a[0] = 100 "
   ]
  },
  {
   "cell_type": "code",
   "execution_count": 102,
   "id": "4d6a9db3-fc52-4449-8549-4e745cabafaa",
   "metadata": {},
   "outputs": [
    {
     "data": {
      "text/plain": [
       "array([100,   9,   9,   4,   9,   7,   7,   8,   5,   1])"
      ]
     },
     "execution_count": 102,
     "metadata": {},
     "output_type": "execute_result"
    }
   ],
   "source": [
    "a"
   ]
  },
  {
   "cell_type": "code",
   "execution_count": 103,
   "id": "e105ccbd-668a-4957-8b63-54f72474dc2d",
   "metadata": {},
   "outputs": [
    {
     "data": {
      "text/plain": [
       "array([[0, 9, 3, 1, 9],\n",
       "       [9, 5, 6, 7, 2],\n",
       "       [1, 7, 6, 2, 2]])"
      ]
     },
     "execution_count": 103,
     "metadata": {},
     "output_type": "execute_result"
    }
   ],
   "source": [
    "m = np.random.randint(10, size = (3,5)) \n",
    "m"
   ]
  },
  {
   "cell_type": "code",
   "execution_count": 104,
   "id": "af443ed5-5813-453d-b2d5-ec9bd25d3fea",
   "metadata": {},
   "outputs": [
    {
     "data": {
      "text/plain": [
       "0"
      ]
     },
     "execution_count": 104,
     "metadata": {},
     "output_type": "execute_result"
    }
   ],
   "source": [
    "m[0,0]"
   ]
  },
  {
   "cell_type": "code",
   "execution_count": 105,
   "id": "51535e53-06dc-4bca-b675-de79f7aed94d",
   "metadata": {},
   "outputs": [
    {
     "data": {
      "text/plain": [
       "6"
      ]
     },
     "execution_count": 105,
     "metadata": {},
     "output_type": "execute_result"
    }
   ],
   "source": [
    "m[1,2]"
   ]
  },
  {
   "cell_type": "code",
   "execution_count": 106,
   "id": "840db280-3201-41d6-b86f-b878db445d70",
   "metadata": {},
   "outputs": [],
   "source": [
    "m[1,2] = 88 "
   ]
  },
  {
   "cell_type": "code",
   "execution_count": 107,
   "id": "5c46cf76-24e0-4ff1-83ba-66f91fa83360",
   "metadata": {},
   "outputs": [
    {
     "data": {
      "text/plain": [
       "array([[ 0,  9,  3,  1,  9],\n",
       "       [ 9,  5, 88,  7,  2],\n",
       "       [ 1,  7,  6,  2,  2]])"
      ]
     },
     "execution_count": 107,
     "metadata": {},
     "output_type": "execute_result"
    }
   ],
   "source": [
    "m"
   ]
  },
  {
   "cell_type": "code",
   "execution_count": 108,
   "id": "17ebc61c-ceff-4fbd-b529-682e94ad4544",
   "metadata": {},
   "outputs": [
    {
     "data": {
      "text/plain": [
       "array([[ 0,  9,  3,  1,  9],\n",
       "       [ 9,  5, 88,  7,  2],\n",
       "       [ 1,  7,  6,  2,  2]])"
      ]
     },
     "execution_count": 108,
     "metadata": {},
     "output_type": "execute_result"
    }
   ],
   "source": [
    "# ondalıklı eklemek istersen normal sayı olarak ekler tipi sabit çünkü \n",
    "\n",
    "m[1,4] = 2.2 \n",
    "m"
   ]
  },
  {
   "cell_type": "markdown",
   "id": "4a8ace28-f2fe-4d76-868c-97bf921a46c7",
   "metadata": {},
   "source": [
    "#### Slicing ile Elemanlara Erişmek / Array Alt Küme İşlemleri"
   ]
  },
  {
   "cell_type": "code",
   "execution_count": 109,
   "id": "359d55ab-31bc-4937-b96a-26e74f36317c",
   "metadata": {},
   "outputs": [
    {
     "data": {
      "text/plain": [
       "array([20, 21, 22, 23, 24, 25, 26, 27, 28, 29])"
      ]
     },
     "execution_count": 109,
     "metadata": {},
     "output_type": "execute_result"
    }
   ],
   "source": [
    "a = np.arange(20,30)\n",
    "a"
   ]
  },
  {
   "cell_type": "code",
   "execution_count": 110,
   "id": "2c24f785-b64f-42ca-8c03-4d60f4a205c8",
   "metadata": {},
   "outputs": [
    {
     "data": {
      "text/plain": [
       "array([20, 21, 22])"
      ]
     },
     "execution_count": 110,
     "metadata": {},
     "output_type": "execute_result"
    }
   ],
   "source": [
    "a[0:3]"
   ]
  },
  {
   "cell_type": "code",
   "execution_count": 111,
   "id": "56b39e4f-1880-4c94-bb3b-cb2523d7e48e",
   "metadata": {},
   "outputs": [
    {
     "data": {
      "text/plain": [
       "array([20, 21, 22])"
      ]
     },
     "execution_count": 111,
     "metadata": {},
     "output_type": "execute_result"
    }
   ],
   "source": [
    "# 0 dan 3 e kadar erişmek \n",
    "\n",
    "a[:3]"
   ]
  },
  {
   "cell_type": "code",
   "execution_count": 112,
   "id": "3414ee55-5e07-4c61-a7b1-051822f72df0",
   "metadata": {},
   "outputs": [
    {
     "data": {
      "text/plain": [
       "array([23, 24, 25, 26, 27, 28, 29])"
      ]
     },
     "execution_count": 112,
     "metadata": {},
     "output_type": "execute_result"
    }
   ],
   "source": [
    "# 3 ten 0 a kadar\n",
    "\n",
    "a[3:]"
   ]
  },
  {
   "cell_type": "code",
   "execution_count": 113,
   "id": "4aff0db6-db63-4eff-bad0-8d8e18d1fa47",
   "metadata": {},
   "outputs": [
    {
     "data": {
      "text/plain": [
       "array([20, 22, 24, 26, 28])"
      ]
     },
     "execution_count": 113,
     "metadata": {},
     "output_type": "execute_result"
    }
   ],
   "source": [
    "# 0. indexten başla 2 şer 2şer ilerle\n",
    "\n",
    "a[0::2]"
   ]
  },
  {
   "cell_type": "code",
   "execution_count": 114,
   "id": "5fc75530-7669-44a9-ae5a-01ea52b3e065",
   "metadata": {},
   "outputs": [],
   "source": [
    "# İki boyutlu slice işlemleri "
   ]
  },
  {
   "cell_type": "code",
   "execution_count": 115,
   "id": "216d303a-a1e4-445c-9527-7414e41a7150",
   "metadata": {},
   "outputs": [],
   "source": [
    "m = np.random.randint(10, size= (5,5))"
   ]
  },
  {
   "cell_type": "code",
   "execution_count": 116,
   "id": "6e572194-60ad-4d16-8d15-5314de8e9ae1",
   "metadata": {},
   "outputs": [
    {
     "data": {
      "text/plain": [
       "array([[7, 7, 7, 1, 0],\n",
       "       [8, 7, 1, 3, 6],\n",
       "       [0, 6, 8, 1, 9],\n",
       "       [0, 6, 2, 1, 3],\n",
       "       [0, 7, 1, 6, 0]])"
      ]
     },
     "execution_count": 116,
     "metadata": {},
     "output_type": "execute_result"
    }
   ],
   "source": [
    "m"
   ]
  },
  {
   "cell_type": "code",
   "execution_count": 117,
   "id": "a7b7bd90-7ce5-4698-9b4e-6233eb73aa7f",
   "metadata": {},
   "outputs": [
    {
     "data": {
      "text/plain": [
       "array([7, 8, 0, 0, 0])"
      ]
     },
     "execution_count": 117,
     "metadata": {},
     "output_type": "execute_result"
    }
   ],
   "source": [
    "#bütün satırları seç şu sutunda seç\n",
    "\n",
    "m[:,0]"
   ]
  },
  {
   "cell_type": "code",
   "execution_count": 118,
   "id": "b986a4b5-37c9-4f6b-801b-51c2b63cf623",
   "metadata": {},
   "outputs": [
    {
     "data": {
      "text/plain": [
       "array([7, 7, 6, 6, 7])"
      ]
     },
     "execution_count": 118,
     "metadata": {},
     "output_type": "execute_result"
    }
   ],
   "source": [
    "m[:,1]"
   ]
  },
  {
   "cell_type": "code",
   "execution_count": 119,
   "id": "38c4163b-8402-41dd-a2ef-4c5307172773",
   "metadata": {},
   "outputs": [
    {
     "data": {
      "text/plain": [
       "array([7, 7, 7, 1, 0])"
      ]
     },
     "execution_count": 119,
     "metadata": {},
     "output_type": "execute_result"
    }
   ],
   "source": [
    "# sutunlarda seç şu satırda\n",
    "\n",
    "m[0,:]"
   ]
  },
  {
   "cell_type": "code",
   "execution_count": 120,
   "id": "1d0fea1b-d873-4853-8796-e491709da8d8",
   "metadata": {},
   "outputs": [
    {
     "data": {
      "text/plain": [
       "array([[7, 7, 7],\n",
       "       [8, 7, 1]])"
      ]
     },
     "execution_count": 120,
     "metadata": {},
     "output_type": "execute_result"
    }
   ],
   "source": [
    "m[0:2, 0:3]"
   ]
  },
  {
   "cell_type": "code",
   "execution_count": 121,
   "id": "a54ae6c5-a2ed-496d-976e-08c14d6853b1",
   "metadata": {},
   "outputs": [
    {
     "data": {
      "text/plain": [
       "array([[7, 7],\n",
       "       [8, 7],\n",
       "       [0, 6],\n",
       "       [0, 6],\n",
       "       [0, 7]])"
      ]
     },
     "execution_count": 121,
     "metadata": {},
     "output_type": "execute_result"
    }
   ],
   "source": [
    "m[:,0:2]"
   ]
  },
  {
   "cell_type": "markdown",
   "id": "db244da0-135b-4fb3-8e96-4250e3a1a48a",
   "metadata": {},
   "source": [
    "#### Alt küme Üzerinde İşlem Yapmak "
   ]
  },
  {
   "cell_type": "code",
   "execution_count": 122,
   "id": "aee7206b-c94d-4b5e-ae73-433ef94ea0cd",
   "metadata": {},
   "outputs": [
    {
     "data": {
      "text/plain": [
       "array([[8, 8, 4, 0, 1],\n",
       "       [2, 1, 5, 6, 7],\n",
       "       [8, 3, 6, 3, 5],\n",
       "       [1, 3, 4, 8, 1],\n",
       "       [2, 6, 4, 6, 5]])"
      ]
     },
     "execution_count": 122,
     "metadata": {},
     "output_type": "execute_result"
    }
   ],
   "source": [
    "import numpy as np\n",
    "a = np.random.randint(10, size =(5,5))\n",
    "a"
   ]
  },
  {
   "cell_type": "code",
   "execution_count": 123,
   "id": "5ce35867-f0cd-40bc-870b-2937c73da42a",
   "metadata": {},
   "outputs": [
    {
     "data": {
      "text/plain": [
       "array([[8, 8],\n",
       "       [2, 1],\n",
       "       [8, 3]])"
      ]
     },
     "execution_count": 123,
     "metadata": {},
     "output_type": "execute_result"
    }
   ],
   "source": [
    "alt_a = a[0:3, 0:2]\n",
    "alt_a"
   ]
  },
  {
   "cell_type": "code",
   "execution_count": 124,
   "id": "9e2e0264-685a-4660-a834-5ab2f898ba52",
   "metadata": {},
   "outputs": [],
   "source": [
    "alt_a[0,0] = 99999\n",
    "alt_a[1,1] = 888"
   ]
  },
  {
   "cell_type": "code",
   "execution_count": 125,
   "id": "e732c894-0747-4714-af18-36bb92aee282",
   "metadata": {},
   "outputs": [
    {
     "data": {
      "text/plain": [
       "array([[99999,     8],\n",
       "       [    2,   888],\n",
       "       [    8,     3]])"
      ]
     },
     "execution_count": 125,
     "metadata": {},
     "output_type": "execute_result"
    }
   ],
   "source": [
    "alt_a"
   ]
  },
  {
   "cell_type": "code",
   "execution_count": 126,
   "id": "5e50d2e2-f431-4750-851f-bbb5530fef51",
   "metadata": {},
   "outputs": [
    {
     "data": {
      "text/plain": [
       "array([[99999,     8,     4,     0,     1],\n",
       "       [    2,   888,     5,     6,     7],\n",
       "       [    8,     3,     6,     3,     5],\n",
       "       [    1,     3,     4,     8,     1],\n",
       "       [    2,     6,     4,     6,     5]])"
      ]
     },
     "execution_count": 126,
     "metadata": {},
     "output_type": "execute_result"
    }
   ],
   "source": [
    "a"
   ]
  },
  {
   "cell_type": "code",
   "execution_count": 128,
   "id": "f867caaf-b8d8-458d-92ee-61ff5d9fc581",
   "metadata": {},
   "outputs": [],
   "source": [
    "# ana listede de değişiklik yapar bunu yapmaması için copy ile ana kümedenn bağımsız hale getirmek gerekir "
   ]
  },
  {
   "cell_type": "code",
   "execution_count": 134,
   "id": "21634c70-5097-4efb-9244-fc4ba973d6cf",
   "metadata": {},
   "outputs": [
    {
     "data": {
      "text/plain": [
       "array([[7, 7],\n",
       "       [8, 7],\n",
       "       [0, 6]])"
      ]
     },
     "execution_count": 134,
     "metadata": {},
     "output_type": "execute_result"
    }
   ],
   "source": [
    "alt_b = m[0:3, 0:2].copy()\n",
    "alt_b"
   ]
  },
  {
   "cell_type": "code",
   "execution_count": 135,
   "id": "fad91248-809d-4a27-8b3a-84196aea9001",
   "metadata": {},
   "outputs": [],
   "source": [
    "alt_b[0,0] = 9999"
   ]
  },
  {
   "cell_type": "code",
   "execution_count": 136,
   "id": "424e599f-0497-4ccd-b1a2-c590a809dda8",
   "metadata": {},
   "outputs": [
    {
     "data": {
      "text/plain": [
       "array([[9999,    7],\n",
       "       [   8,    7],\n",
       "       [   0,    6]])"
      ]
     },
     "execution_count": 136,
     "metadata": {},
     "output_type": "execute_result"
    }
   ],
   "source": [
    "alt_b"
   ]
  },
  {
   "cell_type": "code",
   "execution_count": 137,
   "id": "66527c08-7f72-46ae-b71c-9cc088f6ae06",
   "metadata": {},
   "outputs": [
    {
     "data": {
      "text/plain": [
       "array([[7, 7, 7, 1, 0],\n",
       "       [8, 7, 1, 3, 6],\n",
       "       [0, 6, 8, 1, 9],\n",
       "       [0, 6, 2, 1, 3],\n",
       "       [0, 7, 1, 6, 0]])"
      ]
     },
     "execution_count": 137,
     "metadata": {},
     "output_type": "execute_result"
    }
   ],
   "source": [
    "m"
   ]
  },
  {
   "cell_type": "markdown",
   "id": "1ab15d2e-bbc9-4f90-ab4c-43be8b44dda2",
   "metadata": {},
   "source": [
    "### Fancy Index ile Elemanlara Erişmek "
   ]
  },
  {
   "cell_type": "code",
   "execution_count": 139,
   "id": "2a43ef9e-b29f-4039-bc49-fa7adcf160b5",
   "metadata": {},
   "outputs": [
    {
     "data": {
      "text/plain": [
       "array([ 0,  3,  6,  9, 12, 15, 18, 21, 24, 27])"
      ]
     },
     "execution_count": 139,
     "metadata": {},
     "output_type": "execute_result"
    }
   ],
   "source": [
    "v = np.arange(0, 30, 3)\n",
    "v"
   ]
  },
  {
   "cell_type": "code",
   "execution_count": 140,
   "id": "e3bc0793-346a-439e-b816-35f94ee91744",
   "metadata": {},
   "outputs": [
    {
     "data": {
      "text/plain": [
       "3"
      ]
     },
     "execution_count": 140,
     "metadata": {},
     "output_type": "execute_result"
    }
   ],
   "source": [
    "v[1]"
   ]
  },
  {
   "cell_type": "code",
   "execution_count": 141,
   "id": "050bf630-1840-4517-bd4e-3d2932fbb688",
   "metadata": {},
   "outputs": [],
   "source": [
    "al_getir = [1,3,5]"
   ]
  },
  {
   "cell_type": "code",
   "execution_count": 142,
   "id": "64d20ece-6ab9-4674-a1a3-1c0836e56b65",
   "metadata": {},
   "outputs": [
    {
     "data": {
      "text/plain": [
       "array([ 3,  9, 15])"
      ]
     },
     "execution_count": 142,
     "metadata": {},
     "output_type": "execute_result"
    }
   ],
   "source": [
    "v[al_getir]"
   ]
  },
  {
   "cell_type": "code",
   "execution_count": 143,
   "id": "6a310a30-8445-41c1-9e3b-584f75923231",
   "metadata": {},
   "outputs": [],
   "source": [
    "# iki boyutta fancy"
   ]
  },
  {
   "cell_type": "code",
   "execution_count": 144,
   "id": "9a2e7edf-0a8b-4054-9b22-b3525856d947",
   "metadata": {},
   "outputs": [],
   "source": [
    "m = np.arange(9).reshape((3,3))"
   ]
  },
  {
   "cell_type": "code",
   "execution_count": 145,
   "id": "322eb9fa-e588-4d79-992b-ec399abb24cf",
   "metadata": {},
   "outputs": [
    {
     "data": {
      "text/plain": [
       "array([[0, 1, 2],\n",
       "       [3, 4, 5],\n",
       "       [6, 7, 8]])"
      ]
     },
     "execution_count": 145,
     "metadata": {},
     "output_type": "execute_result"
    }
   ],
   "source": [
    "m"
   ]
  },
  {
   "cell_type": "code",
   "execution_count": 146,
   "id": "d0da44a5-c3b9-4e2c-963b-040daa91d4da",
   "metadata": {},
   "outputs": [],
   "source": [
    "satir = np.array([0,1])\n",
    "sutun = np.array([1,2])"
   ]
  },
  {
   "cell_type": "code",
   "execution_count": 147,
   "id": "6a17b02b-e47e-4813-99dd-09918f6e9b49",
   "metadata": {},
   "outputs": [
    {
     "data": {
      "text/plain": [
       "array([1, 5])"
      ]
     },
     "execution_count": 147,
     "metadata": {},
     "output_type": "execute_result"
    }
   ],
   "source": [
    "m[satir,sutun]"
   ]
  },
  {
   "cell_type": "code",
   "execution_count": 148,
   "id": "c6c45c20-5537-4d6f-a6a5-6bb5493e4bc9",
   "metadata": {},
   "outputs": [
    {
     "data": {
      "text/plain": [
       "array([[0, 1, 2],\n",
       "       [3, 4, 5],\n",
       "       [6, 7, 8]])"
      ]
     },
     "execution_count": 148,
     "metadata": {},
     "output_type": "execute_result"
    }
   ],
   "source": [
    "# basit index ile fancy index\n",
    "m"
   ]
  },
  {
   "cell_type": "code",
   "execution_count": 149,
   "id": "ca48d1c5-5313-438f-b762-cc53b3774fa3",
   "metadata": {},
   "outputs": [
    {
     "data": {
      "text/plain": [
       "array([1, 2])"
      ]
     },
     "execution_count": 149,
     "metadata": {},
     "output_type": "execute_result"
    }
   ],
   "source": [
    "m[0,[1,2]]"
   ]
  },
  {
   "cell_type": "code",
   "execution_count": 150,
   "id": "b2e7d63a-cee9-4a0a-9552-5ada4fb5ff31",
   "metadata": {},
   "outputs": [],
   "source": [
    "#slice ile fancy"
   ]
  },
  {
   "cell_type": "code",
   "execution_count": 151,
   "id": "4a351587-1f4b-4055-830e-4e0abee02ccf",
   "metadata": {},
   "outputs": [
    {
     "data": {
      "text/plain": [
       "array([[1, 2],\n",
       "       [4, 5],\n",
       "       [7, 8]])"
      ]
     },
     "execution_count": 151,
     "metadata": {},
     "output_type": "execute_result"
    }
   ],
   "source": [
    "m[0:, [1,2]]"
   ]
  },
  {
   "cell_type": "markdown",
   "id": "524c0fcf-c4b9-4077-a320-074dd2d8df3c",
   "metadata": {},
   "source": [
    "#### Koşullu Eleman İşlemleri "
   ]
  },
  {
   "cell_type": "code",
   "execution_count": 152,
   "id": "5d32540a-06ee-4979-89f2-4cecc41f9dcf",
   "metadata": {},
   "outputs": [],
   "source": [
    "v = np.array([1, 2, 3, 4, 5])"
   ]
  },
  {
   "cell_type": "code",
   "execution_count": 153,
   "id": "e2533267-cfc3-4c97-acb8-13b6a7b85e80",
   "metadata": {},
   "outputs": [
    {
     "data": {
      "text/plain": [
       "array([False, False, False, False, False])"
      ]
     },
     "execution_count": 153,
     "metadata": {},
     "output_type": "execute_result"
    }
   ],
   "source": [
    "# burada sadece sorgu yapılıyor true veya false cevap donecek\n",
    "v > 5 "
   ]
  },
  {
   "cell_type": "code",
   "execution_count": 154,
   "id": "af3b903e-09bd-4533-8ef0-da4e20ac560d",
   "metadata": {},
   "outputs": [
    {
     "data": {
      "text/plain": [
       "array([ True,  True, False, False, False])"
      ]
     },
     "execution_count": 154,
     "metadata": {},
     "output_type": "execute_result"
    }
   ],
   "source": [
    "v < 3 "
   ]
  },
  {
   "cell_type": "code",
   "execution_count": 156,
   "id": "d1c61f04-958b-4e09-87a7-78738eec7e7e",
   "metadata": {},
   "outputs": [
    {
     "data": {
      "text/plain": [
       "array([1, 2])"
      ]
     },
     "execution_count": 156,
     "metadata": {},
     "output_type": "execute_result"
    }
   ],
   "source": [
    "# true olma durumuna gore elemanları getiriyor \n",
    "\n",
    "v[v < 3]"
   ]
  },
  {
   "cell_type": "code",
   "execution_count": 157,
   "id": "ae95491c-6f84-40b3-a25e-193a605994f3",
   "metadata": {},
   "outputs": [
    {
     "data": {
      "text/plain": [
       "array([4, 5])"
      ]
     },
     "execution_count": 157,
     "metadata": {},
     "output_type": "execute_result"
    }
   ],
   "source": [
    "v[v > 3]"
   ]
  },
  {
   "cell_type": "code",
   "execution_count": 158,
   "id": "53d56094-274d-48aa-bd9a-a9be3ba9bf20",
   "metadata": {},
   "outputs": [
    {
     "data": {
      "text/plain": [
       "array([3])"
      ]
     },
     "execution_count": 158,
     "metadata": {},
     "output_type": "execute_result"
    }
   ],
   "source": [
    "v[v == 3]"
   ]
  },
  {
   "cell_type": "code",
   "execution_count": 159,
   "id": "6a1a891a-aef1-43b3-b033-a3b1f32d01b7",
   "metadata": {},
   "outputs": [
    {
     "data": {
      "text/plain": [
       "array([1, 2, 4, 5])"
      ]
     },
     "execution_count": 159,
     "metadata": {},
     "output_type": "execute_result"
    }
   ],
   "source": [
    "# 3 dışındakileri getir \n",
    "\n",
    "v[v != 3]"
   ]
  },
  {
   "cell_type": "code",
   "execution_count": 161,
   "id": "aaafbf0f-b50c-4207-83a4-6a6879c6caa3",
   "metadata": {},
   "outputs": [
    {
     "data": {
      "text/plain": [
       "array([1, 2, 3, 4, 5])"
      ]
     },
     "execution_count": 161,
     "metadata": {},
     "output_type": "execute_result"
    }
   ],
   "source": [
    "v"
   ]
  },
  {
   "cell_type": "code",
   "execution_count": 160,
   "id": "7f9f2c81-2195-4217-9fa1-b0f353d469dc",
   "metadata": {},
   "outputs": [
    {
     "data": {
      "text/plain": [
       "array([ 2,  4,  6,  8, 10])"
      ]
     },
     "execution_count": 160,
     "metadata": {},
     "output_type": "execute_result"
    }
   ],
   "source": [
    "v * 2 "
   ]
  },
  {
   "cell_type": "code",
   "execution_count": 162,
   "id": "2438195d-2481-485e-baa8-b618bae1924d",
   "metadata": {},
   "outputs": [
    {
     "data": {
      "text/plain": [
       "array([0.2, 0.4, 0.6, 0.8, 1. ])"
      ]
     },
     "execution_count": 162,
     "metadata": {},
     "output_type": "execute_result"
    }
   ],
   "source": [
    "v / 5 "
   ]
  },
  {
   "cell_type": "code",
   "execution_count": 163,
   "id": "6e7bff9e-6b2d-4ad2-baf1-1840853e6166",
   "metadata": {},
   "outputs": [
    {
     "data": {
      "text/plain": [
       "array([ 1,  4,  9, 16, 25], dtype=int32)"
      ]
     },
     "execution_count": 163,
     "metadata": {},
     "output_type": "execute_result"
    }
   ],
   "source": [
    "v**2"
   ]
  },
  {
   "cell_type": "markdown",
   "id": "5be362ff-2b98-494a-858a-4197c0c4b99a",
   "metadata": {},
   "source": [
    "#### Matematiksel İşlemler \n",
    "\n",
    "\"ufunc\" aracılığıyla yapılıyor aslında arka planda"
   ]
  },
  {
   "cell_type": "code",
   "execution_count": 164,
   "id": "7078ec44-4c94-4375-882d-31ee541114fa",
   "metadata": {},
   "outputs": [],
   "source": [
    "v = np.array([1, 2, 3, 4, 5])"
   ]
  },
  {
   "cell_type": "code",
   "execution_count": 165,
   "id": "01b64de4-eb8a-4ead-a759-d95b5ce1d6cf",
   "metadata": {},
   "outputs": [
    {
     "data": {
      "text/plain": [
       "array([1, 2, 3, 4, 5])"
      ]
     },
     "execution_count": 165,
     "metadata": {},
     "output_type": "execute_result"
    }
   ],
   "source": [
    "v"
   ]
  },
  {
   "cell_type": "code",
   "execution_count": 166,
   "id": "6f5faa7a-acac-4f8a-bf7c-a78a60688142",
   "metadata": {},
   "outputs": [
    {
     "data": {
      "text/plain": [
       "array([0, 1, 2, 3, 4])"
      ]
     },
     "execution_count": 166,
     "metadata": {},
     "output_type": "execute_result"
    }
   ],
   "source": [
    "v - 1 "
   ]
  },
  {
   "cell_type": "code",
   "execution_count": 167,
   "id": "da28adbd-d970-40f8-a64f-35b447705f73",
   "metadata": {},
   "outputs": [
    {
     "data": {
      "text/plain": [
       "array([-0.5,  0. ,  0.5,  1. ,  1.5])"
      ]
     },
     "execution_count": 167,
     "metadata": {},
     "output_type": "execute_result"
    }
   ],
   "source": [
    "v*5/10 - 1 "
   ]
  },
  {
   "cell_type": "code",
   "execution_count": 168,
   "id": "52e2901a-d060-4f57-9ac2-d552a284e42f",
   "metadata": {},
   "outputs": [
    {
     "data": {
      "text/plain": [
       "array([  1,   8,  27,  64, 125], dtype=int32)"
      ]
     },
     "execution_count": 168,
     "metadata": {},
     "output_type": "execute_result"
    }
   ],
   "source": [
    "#ucuncu dereceden kuvvet alma\n",
    "\n",
    "np.power(v,3)"
   ]
  },
  {
   "cell_type": "code",
   "execution_count": 169,
   "id": "78bf0884-5baf-4ed4-9c21-705cf8de5da3",
   "metadata": {},
   "outputs": [
    {
     "data": {
      "text/plain": [
       "array([1, 0, 1, 0, 1], dtype=int32)"
      ]
     },
     "execution_count": 169,
     "metadata": {},
     "output_type": "execute_result"
    }
   ],
   "source": [
    "# v nin 2 ye bölümünden kalanı getir \n",
    "\n",
    "v % 2 "
   ]
  },
  {
   "cell_type": "code",
   "execution_count": 170,
   "id": "1357e92d-0ce4-476b-ac8a-ed110a168ebd",
   "metadata": {},
   "outputs": [
    {
     "data": {
      "text/plain": [
       "array([1, 0, 1, 0, 1], dtype=int32)"
      ]
     },
     "execution_count": 170,
     "metadata": {},
     "output_type": "execute_result"
    }
   ],
   "source": [
    "#veya \n",
    "\n",
    "np.mod(v,2)"
   ]
  },
  {
   "cell_type": "code",
   "execution_count": 172,
   "id": "7485d896-9453-4a2b-8f29-6d4410f432cb",
   "metadata": {},
   "outputs": [
    {
     "data": {
      "text/plain": [
       "array([3])"
      ]
     },
     "execution_count": 172,
     "metadata": {},
     "output_type": "execute_result"
    }
   ],
   "source": [
    "# mutlak değer almak \n",
    "\n",
    "np.absolute(np.array([-3]))"
   ]
  },
  {
   "cell_type": "code",
   "execution_count": 173,
   "id": "d98129bc-218b-4fac-bcff-93f58974504b",
   "metadata": {},
   "outputs": [
    {
     "data": {
      "text/plain": [
       "0.9589157234143065"
      ]
     },
     "execution_count": 173,
     "metadata": {},
     "output_type": "execute_result"
    }
   ],
   "source": [
    "np.sin(360)"
   ]
  },
  {
   "cell_type": "code",
   "execution_count": 175,
   "id": "51738442-255c-4a9b-baae-1550473ac7f6",
   "metadata": {},
   "outputs": [
    {
     "data": {
      "text/plain": [
       "-0.5984600690578581"
      ]
     },
     "execution_count": 175,
     "metadata": {},
     "output_type": "execute_result"
    }
   ],
   "source": [
    "np.cos(180)"
   ]
  },
  {
   "cell_type": "code",
   "execution_count": 178,
   "id": "b4d2d791-a864-4ba3-9fd9-ee5ba6c4aa71",
   "metadata": {},
   "outputs": [],
   "source": [
    "v = np.array([1,2,3])"
   ]
  },
  {
   "cell_type": "code",
   "execution_count": 179,
   "id": "37ad561e-163a-49dd-9fc7-e2d1cf6af591",
   "metadata": {},
   "outputs": [
    {
     "data": {
      "text/plain": [
       "array([0.        , 0.69314718, 1.09861229])"
      ]
     },
     "execution_count": 179,
     "metadata": {},
     "output_type": "execute_result"
    }
   ],
   "source": [
    "np.log(v)"
   ]
  },
  {
   "cell_type": "code",
   "execution_count": 180,
   "id": "cac46501-ba5f-4f5f-a9fc-4487e02519be",
   "metadata": {},
   "outputs": [
    {
     "data": {
      "text/plain": [
       "array([0.       , 1.       , 1.5849625])"
      ]
     },
     "execution_count": 180,
     "metadata": {},
     "output_type": "execute_result"
    }
   ],
   "source": [
    "np.log2(v)"
   ]
  },
  {
   "cell_type": "code",
   "execution_count": 181,
   "id": "9603fb35-149b-4afe-bde3-8cd9c23654ee",
   "metadata": {
    "collapsed": true,
    "jupyter": {
     "outputs_hidden": true
    },
    "tags": []
   },
   "outputs": [
    {
     "data": {
      "text/plain": [
       "\u001b[1;31mType:\u001b[0m        module\n",
       "\u001b[1;31mString form:\u001b[0m <module 'numpy' from 'C:\\\\Users\\\\furka\\\\anaconda3\\\\lib\\\\site-packages\\\\numpy\\\\__init__.py'>\n",
       "\u001b[1;31mFile:\u001b[0m        c:\\users\\furka\\anaconda3\\lib\\site-packages\\numpy\\__init__.py\n",
       "\u001b[1;31mDocstring:\u001b[0m  \n",
       "NumPy\n",
       "=====\n",
       "\n",
       "Provides\n",
       "  1. An array object of arbitrary homogeneous items\n",
       "  2. Fast mathematical operations over arrays\n",
       "  3. Linear Algebra, Fourier Transforms, Random Number Generation\n",
       "\n",
       "How to use the documentation\n",
       "----------------------------\n",
       "Documentation is available in two forms: docstrings provided\n",
       "with the code, and a loose standing reference guide, available from\n",
       "`the NumPy homepage <https://www.scipy.org>`_.\n",
       "\n",
       "We recommend exploring the docstrings using\n",
       "`IPython <https://ipython.org>`_, an advanced Python shell with\n",
       "TAB-completion and introspection capabilities.  See below for further\n",
       "instructions.\n",
       "\n",
       "The docstring examples assume that `numpy` has been imported as `np`::\n",
       "\n",
       "  >>> import numpy as np\n",
       "\n",
       "Code snippets are indicated by three greater-than signs::\n",
       "\n",
       "  >>> x = 42\n",
       "  >>> x = x + 1\n",
       "\n",
       "Use the built-in ``help`` function to view a function's docstring::\n",
       "\n",
       "  >>> help(np.sort)\n",
       "  ... # doctest: +SKIP\n",
       "\n",
       "For some objects, ``np.info(obj)`` may provide additional help.  This is\n",
       "particularly true if you see the line \"Help on ufunc object:\" at the top\n",
       "of the help() page.  Ufuncs are implemented in C, not Python, for speed.\n",
       "The native Python help() does not know how to view their help, but our\n",
       "np.info() function does.\n",
       "\n",
       "To search for documents containing a keyword, do::\n",
       "\n",
       "  >>> np.lookfor('keyword')\n",
       "  ... # doctest: +SKIP\n",
       "\n",
       "General-purpose documents like a glossary and help on the basic concepts\n",
       "of numpy are available under the ``doc`` sub-module::\n",
       "\n",
       "  >>> from numpy import doc\n",
       "  >>> help(doc)\n",
       "  ... # doctest: +SKIP\n",
       "\n",
       "Available subpackages\n",
       "---------------------\n",
       "doc\n",
       "    Topical documentation on broadcasting, indexing, etc.\n",
       "lib\n",
       "    Basic functions used by several sub-packages.\n",
       "random\n",
       "    Core Random Tools\n",
       "linalg\n",
       "    Core Linear Algebra Tools\n",
       "fft\n",
       "    Core FFT routines\n",
       "polynomial\n",
       "    Polynomial tools\n",
       "testing\n",
       "    NumPy testing tools\n",
       "f2py\n",
       "    Fortran to Python Interface Generator.\n",
       "distutils\n",
       "    Enhancements to distutils with support for\n",
       "    Fortran compilers support and more.\n",
       "\n",
       "Utilities\n",
       "---------\n",
       "test\n",
       "    Run numpy unittests\n",
       "show_config\n",
       "    Show numpy build configuration\n",
       "dual\n",
       "    Overwrite certain functions with high-performance SciPy tools.\n",
       "    Note: `numpy.dual` is deprecated.  Use the functions from NumPy or Scipy\n",
       "    directly instead of importing them from `numpy.dual`.\n",
       "matlib\n",
       "    Make everything matrices.\n",
       "__version__\n",
       "    NumPy version string\n",
       "\n",
       "Viewing documentation using IPython\n",
       "-----------------------------------\n",
       "Start IPython with the NumPy profile (``ipython -p numpy``), which will\n",
       "import `numpy` under the alias `np`.  Then, use the ``cpaste`` command to\n",
       "paste examples into the shell.  To see which functions are available in\n",
       "`numpy`, type ``np.<TAB>`` (where ``<TAB>`` refers to the TAB key), or use\n",
       "``np.*cos*?<ENTER>`` (where ``<ENTER>`` refers to the ENTER key) to narrow\n",
       "down the list.  To view the docstring for a function, use\n",
       "``np.cos?<ENTER>`` (to view the docstring) and ``np.cos??<ENTER>`` (to view\n",
       "the source code).\n",
       "\n",
       "Copies vs. in-place operation\n",
       "-----------------------------\n",
       "Most of the functions in `numpy` return a copy of the array argument\n",
       "(e.g., `np.sort`).  In-place versions of these functions are often\n",
       "available as array methods, i.e. ``x = np.array([1,2,3]); x.sort()``.\n",
       "Exceptions to this rule are documented.\n"
      ]
     },
     "metadata": {},
     "output_type": "display_data"
    }
   ],
   "source": [
    "#numpyda bulunan matematiksel diğer fonksiyonlara nasıl ulaşırız?\n",
    "# numpy cheat sheat i google da aratabilirsiniz. \n",
    "?np"
   ]
  },
  {
   "cell_type": "code",
   "execution_count": 183,
   "id": "b0788293-39c3-4ee1-a879-ba8404d8d24e",
   "metadata": {},
   "outputs": [
    {
     "data": {
      "text/plain": [
       "6"
      ]
     },
     "execution_count": 183,
     "metadata": {},
     "output_type": "execute_result"
    }
   ],
   "source": [
    "v.sum()"
   ]
  },
  {
   "cell_type": "code",
   "execution_count": 184,
   "id": "44fc824c-1254-4d69-bb29-b85685e57c16",
   "metadata": {},
   "outputs": [
    {
     "data": {
      "text/plain": [
       "1"
      ]
     },
     "execution_count": 184,
     "metadata": {},
     "output_type": "execute_result"
    }
   ],
   "source": [
    "v.min()"
   ]
  },
  {
   "cell_type": "code",
   "execution_count": 185,
   "id": "359a0a7f-c05b-49ae-b8ed-29b43749d762",
   "metadata": {},
   "outputs": [
    {
     "data": {
      "text/plain": [
       "3"
      ]
     },
     "execution_count": 185,
     "metadata": {},
     "output_type": "execute_result"
    }
   ],
   "source": [
    "v.max()"
   ]
  },
  {
   "cell_type": "code",
   "execution_count": 187,
   "id": "8182b6ee-7cc0-400b-b493-1966ec1d7523",
   "metadata": {},
   "outputs": [
    {
     "data": {
      "text/plain": [
       "0.816496580927726"
      ]
     },
     "execution_count": 187,
     "metadata": {},
     "output_type": "execute_result"
    }
   ],
   "source": [
    "np.std(v, axis=0)"
   ]
  },
  {
   "cell_type": "markdown",
   "id": "d32fd39a-d239-4eea-b094-36739e9679e4",
   "metadata": {},
   "source": [
    "#### Numpy ile İki Bilinmeyenli Denklem Çözümü"
   ]
  },
  {
   "cell_type": "code",
   "execution_count": 188,
   "id": "3acd9aa6-3c7c-49d3-99c0-36957fa0d1ea",
   "metadata": {},
   "outputs": [],
   "source": [
    "import numpy as np"
   ]
  },
  {
   "cell_type": "markdown",
   "id": "45a89f05-f1ef-467b-8e89-5dad65cd88b4",
   "metadata": {},
   "source": [
    "$ 5 * x_0 + x_1 = 12 $ \\\n",
    "$ x_0 + 3 * x_1 = 10 $\n"
   ]
  },
  {
   "cell_type": "code",
   "execution_count": 189,
   "id": "1c493ede-43b2-4376-89fd-4f526d23cd0f",
   "metadata": {},
   "outputs": [],
   "source": [
    "a = np.array([[5,1], [1,3]])\n",
    "b = np.array([12,10])"
   ]
  },
  {
   "cell_type": "code",
   "execution_count": 190,
   "id": "d3628ff9-7135-4e1e-84d0-98e78855b8d4",
   "metadata": {},
   "outputs": [
    {
     "data": {
      "text/plain": [
       "array([[5, 1],\n",
       "       [1, 3]])"
      ]
     },
     "execution_count": 190,
     "metadata": {},
     "output_type": "execute_result"
    }
   ],
   "source": [
    "a"
   ]
  },
  {
   "cell_type": "code",
   "execution_count": 191,
   "id": "cdd5d91b-b3d4-4ddc-b5ef-f4ae04f7a7ac",
   "metadata": {},
   "outputs": [
    {
     "data": {
      "text/plain": [
       "array([12, 10])"
      ]
     },
     "execution_count": 191,
     "metadata": {},
     "output_type": "execute_result"
    }
   ],
   "source": [
    "b"
   ]
  },
  {
   "cell_type": "code",
   "execution_count": 194,
   "id": "89116ae5-95d9-4d4d-b643-7b19d488b56a",
   "metadata": {},
   "outputs": [
    {
     "data": {
      "text/plain": [
       "array([1.85714286, 2.71428571])"
      ]
     },
     "execution_count": 194,
     "metadata": {},
     "output_type": "execute_result"
    }
   ],
   "source": [
    "x = np.linalg.solve(a,b)\n",
    "x"
   ]
  }
 ],
 "metadata": {
  "kernelspec": {
   "display_name": "Python 3 (ipykernel)",
   "language": "python",
   "name": "python3"
  },
  "language_info": {
   "codemirror_mode": {
    "name": "ipython",
    "version": 3
   },
   "file_extension": ".py",
   "mimetype": "text/x-python",
   "name": "python",
   "nbconvert_exporter": "python",
   "pygments_lexer": "ipython3",
   "version": "3.9.13"
  }
 },
 "nbformat": 4,
 "nbformat_minor": 5
}
